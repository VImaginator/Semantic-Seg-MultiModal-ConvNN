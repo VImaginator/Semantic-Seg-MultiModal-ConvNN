{
 "cells": [
  {
   "cell_type": "code",
   "execution_count": 3,
   "metadata": {},
   "outputs": [],
   "source": [
    "import os\n",
    "\n",
    "file1 = open('/home/captain_jack/Downloads/freiburg_forest_annotated/Otherformats/train.txt','w')\n",
    "for f in sorted(os.listdir('/home/captain_jack/Downloads/freiburg_forest_annotated/Otherformats/train/depth_color/')):\n",
    "    [p,q] = f.split(\".\")\n",
    "    #print p\n",
    "    file1.writelines(p+'\\n')\n",
    "file1.close()\n",
    "\n",
    "file2 = open('/home/captain_jack/Downloads/freiburg_forest_annotated/Otherformats/valid.txt','w')\n",
    "for f in sorted(os.listdir('/home/captain_jack/Downloads/freiburg_forest_annotated/Otherformats/valid/depth_color/')):\n",
    "    [p,q] = f.split(\".\")\n",
    "    #print p\n",
    "    file2.writelines(p+'\\n')\n",
    "file2.close()\n",
    "\n",
    "\n",
    "\n"
   ]
  },
  {
   "cell_type": "code",
   "execution_count": 2,
   "metadata": {},
   "outputs": [
    {
     "data": {
      "text/plain": [
       "['ndvi_color',\n",
       " 'nir',\n",
       " 'depth_color_1ch',\n",
       " 'ndvi_float',\n",
       " 'depth_gray',\n",
       " 'nir_gray',\n",
       " 'nir_color_jet',\n",
       " 'nir_color',\n",
 