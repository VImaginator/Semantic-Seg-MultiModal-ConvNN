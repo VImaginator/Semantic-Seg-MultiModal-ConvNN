{
 "cells": [
  {
   "cell_type": "code",
   "execution_count": 3,
   "metadata": {},
   "outputs": [],
   "source": [
    "import os\n",
    "\n",
    "file1 = open('/home/captain_jack/Downloads/freiburg_forest_annotated/Otherformats/train.txt','w')\n",
    "for f in sorted(os.listdir('/home/captain_jack/Downloads/freiburg_forest_