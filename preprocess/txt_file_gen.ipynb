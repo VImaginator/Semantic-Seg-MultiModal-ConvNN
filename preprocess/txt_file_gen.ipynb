{
 "cells": [
  {
   "cell_type": "code",
   "execution_count": 3,
   "metadata": {},
   "outputs": [],
   "source": [
    "import os\n",
    "\n",
    "file1 = open('/home/captain_jack/Downloads/freiburg_forest_annotated/Otherformats/train.txt','w')\n",
    "for f in sorted(os.listdir('/home/captain_jack/Downloads/freiburg_forest_annotated/Otherformats/train/depth_color/')):\n",
    "    [p,q] = f.split(\".\")\n",
    "    #print p\n",
    "    file1.writelines(p+'\\n')\n",
    "file1.close()\n",
    "\n",
    "file2 = open('/home/captain_jack/Downloads/freiburg_forest_annotated/Otherformats/valid.txt','w')\n",
    "for f in sorted(os.listdir('/home/captain_jack/Downloads/freiburg_forest_annotated/Otherformats/valid/depth_color/')):\n",
    "    [p,q] = f.split(\".\")\n",
    "    #print p\n",
    "    file2.writelines(p+'\\n')\n",
    "file2.close()\n",
    "\n",
    "\n",
    "\n"
   ]
  },
  {
   "cell_type": "code",
   "execution_count": 2,
   "metadata": {},
   "outputs": [
    {
     "data": {
      "text/plain": [
       "['ndvi_color',\n",
       " 'nir',\n",
       " 'depth_color_1ch',\n",
       " 'ndvi_float',\n",
       " 'depth_gray',\n",
       " 'nir_gray',\n",
       " 'nir_color_jet',\n",
       " 'nir_color',\n",
       " 'evi_gray',\n",
       " 'depth_color',\n",
       " 'nrg',\n",
       " 'rgb_grayscale',\n",
       " 'evi_color']"
      ]
     },
     "execution_count": 2,
     "metadata": {},
     "output_type": "execute_result"
    }
   ],
   "source": [
    "import os \n",
    "os.listdir('/home/captain_jack/Downloads/freiburg_forest_annotated/Otherformats/train/')"
   ]
  },
  {
   "cell_type": "code",
   "execution_count": null,
   "metadata": {
    "collapsed": true
   },
   "outputs": [],
   "source": []
  }
 ],
 "metadata": {
  "kernelspec": {
   "display_name": "Python 2",
   "language": "python",
   "name": "python2"
  },
  "language_info": {
   "codemirror_mode": {
    "name": "ipython",
    "version": 2
   },
   "file_extension": ".py",
   "mimetype": "text/x-python",
   "name": "python",
   "nbconvert_exporter": "python",
   "pygments_lexer": "ipython2",
   "version": "2.7.13"
  }
 },
 "nbformat": 4,
 "nbformat_minor": 2
}
